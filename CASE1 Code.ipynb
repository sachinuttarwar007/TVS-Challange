{
 "cells": [
  {
   "cell_type": "code",
   "execution_count": 1,
   "metadata": {},
   "outputs": [],
   "source": [
    "import numpy as np\n",
    "import pandas as pd\n",
    "from sklearn.ensemble import RandomForestClassifier\n",
    "from sklearn.model_selection import cross_validate\n",
    "from sklearn.model_selection import train_test_split\n",
    "from sklearn.model_selection import cross_val_score\n",
    "\n",
    "import matplotlib.pyplot as plt\n",
    "%matplotlib inline"
   ]
  },
  {
   "cell_type": "code",
   "execution_count": 2,
   "metadata": {},
   "outputs": [
    {
     "data": {
      "text/html": [
       "<div>\n",
       "<style scoped>\n",
       "    .dataframe tbody tr th:only-of-type {\n",
       "        vertical-align: middle;\n",
       "    }\n",
       "\n",
       "    .dataframe tbody tr th {\n",
       "        vertical-align: top;\n",
       "    }\n",
       "\n",
       "    .dataframe thead th {\n",
       "        text-align: right;\n",
       "    }\n",
       "</style>\n",
       "<table border=\"1\" class=\"dataframe\">\n",
       "  <thead>\n",
       "    <tr style=\"text-align: right;\">\n",
       "      <th></th>\n",
       "      <th>V1</th>\n",
       "      <th>V2</th>\n",
       "      <th>V3</th>\n",
       "      <th>V4</th>\n",
       "      <th>V5</th>\n",
       "      <th>V6</th>\n",
       "      <th>V7</th>\n",
       "      <th>V8</th>\n",
       "      <th>V9</th>\n",
       "      <th>V10</th>\n",
       "      <th>...</th>\n",
       "      <th>V23</th>\n",
       "      <th>V24</th>\n",
       "      <th>V25</th>\n",
       "      <th>V26</th>\n",
       "      <th>V27</th>\n",
       "      <th>V28</th>\n",
       "      <th>V29</th>\n",
       "      <th>V30</th>\n",
       "      <th>V31</th>\n",
       "      <th>V32</th>\n",
       "    </tr>\n",
       "  </thead>\n",
       "  <tbody>\n",
       "    <tr>\n",
       "      <th>0</th>\n",
       "      <td>1</td>\n",
       "      <td>MALE</td>\n",
       "      <td>11/05/1967</td>\n",
       "      <td>516002</td>\n",
       "      <td>12</td>\n",
       "      <td>OWNED</td>\n",
       "      <td>MO</td>\n",
       "      <td>1</td>\n",
       "      <td>29800</td>\n",
       "      <td>23000</td>\n",
       "      <td>...</td>\n",
       "      <td>2</td>\n",
       "      <td>0</td>\n",
       "      <td>200000</td>\n",
       "      <td>23000.0</td>\n",
       "      <td>0</td>\n",
       "      <td>0</td>\n",
       "      <td>0</td>\n",
       "      <td>0</td>\n",
       "      <td>1</td>\n",
       "      <td>0</td>\n",
       "    </tr>\n",
       "    <tr>\n",
       "      <th>1</th>\n",
       "      <td>2</td>\n",
       "      <td>MALE</td>\n",
       "      <td>05/02/1988</td>\n",
       "      <td>517501</td>\n",
       "      <td>12</td>\n",
       "      <td>OWNED</td>\n",
       "      <td>MC</td>\n",
       "      <td>1</td>\n",
       "      <td>73502</td>\n",
       "      <td>40000</td>\n",
       "      <td>...</td>\n",
       "      <td>1</td>\n",
       "      <td>0</td>\n",
       "      <td>0</td>\n",
       "      <td>40000.0</td>\n",
       "      <td>500000</td>\n",
       "      <td>0</td>\n",
       "      <td>1</td>\n",
       "      <td>4</td>\n",
       "      <td>7</td>\n",
       "      <td>0</td>\n",
       "    </tr>\n",
       "    <tr>\n",
       "      <th>2</th>\n",
       "      <td>3</td>\n",
       "      <td>MALE</td>\n",
       "      <td>01/08/1970</td>\n",
       "      <td>516003</td>\n",
       "      <td>18</td>\n",
       "      <td>RENT</td>\n",
       "      <td>SC</td>\n",
       "      <td>2</td>\n",
       "      <td>46180</td>\n",
       "      <td>30000</td>\n",
       "      <td>...</td>\n",
       "      <td>1</td>\n",
       "      <td>0</td>\n",
       "      <td>30000</td>\n",
       "      <td>30000.0</td>\n",
       "      <td>0</td>\n",
       "      <td>1</td>\n",
       "      <td>0</td>\n",
       "      <td>0</td>\n",
       "      <td>0</td>\n",
       "      <td>0</td>\n",
       "    </tr>\n",
       "    <tr>\n",
       "      <th>3</th>\n",
       "      <td>4</td>\n",
       "      <td>MALE</td>\n",
       "      <td>22/05/1972</td>\n",
       "      <td>517213</td>\n",
       "      <td>18</td>\n",
       "      <td>OWNED</td>\n",
       "      <td>MO</td>\n",
       "      <td>2</td>\n",
       "      <td>29800</td>\n",
       "      <td>22100</td>\n",
       "      <td>...</td>\n",
       "      <td>2</td>\n",
       "      <td>0</td>\n",
       "      <td>42000</td>\n",
       "      <td>49900.0</td>\n",
       "      <td>0</td>\n",
       "      <td>0</td>\n",
       "      <td>0</td>\n",
       "      <td>2</td>\n",
       "      <td>6</td>\n",
       "      <td>0</td>\n",
       "    </tr>\n",
       "    <tr>\n",
       "      <th>4</th>\n",
       "      <td>5</td>\n",
       "      <td>FEMALE</td>\n",
       "      <td>12/04/1983</td>\n",
       "      <td>517503</td>\n",
       "      <td>12</td>\n",
       "      <td>OWNED</td>\n",
       "      <td>MO</td>\n",
       "      <td>2</td>\n",
       "      <td>29800</td>\n",
       "      <td>18500</td>\n",
       "      <td>...</td>\n",
       "      <td>1</td>\n",
       "      <td>0</td>\n",
       "      <td>15000</td>\n",
       "      <td>18500.0</td>\n",
       "      <td>0</td>\n",
       "      <td>0</td>\n",
       "      <td>0</td>\n",
       "      <td>0</td>\n",
       "      <td>0</td>\n",
       "      <td>0</td>\n",
       "    </tr>\n",
       "  </tbody>\n",
       "</table>\n",
       "<p>5 rows × 32 columns</p>\n",
       "</div>"
      ],
      "text/plain": [
       "   V1      V2          V3      V4  V5     V6  V7  V8     V9    V10  ... V23  \\\n",
       "0   1    MALE  11/05/1967  516002  12  OWNED  MO   1  29800  23000  ...   2   \n",
       "1   2    MALE  05/02/1988  517501  12  OWNED  MC   1  73502  40000  ...   1   \n",
       "2   3    MALE  01/08/1970  516003  18   RENT  SC   2  46180  30000  ...   1   \n",
       "3   4    MALE  22/05/1972  517213  18  OWNED  MO   2  29800  22100  ...   2   \n",
       "4   5  FEMALE  12/04/1983  517503  12  OWNED  MO   2  29800  18500  ...   1   \n",
       "\n",
       "  V24     V25      V26     V27  V28  V29  V30  V31  V32  \n",
       "0   0  200000  23000.0       0    0    0    0    1    0  \n",
       "1   0       0  40000.0  500000    0    1    4    7    0  \n",
       "2   0   30000  30000.0       0    1    0    0    0    0  \n",
       "3   0   42000  49900.0       0    0    0    2    6    0  \n",
       "4   0   15000  18500.0       0    0    0    0    0    0  \n",
       "\n",
       "[5 rows x 32 columns]"
      ]
     },
     "execution_count": 2,
     "metadata": {},
     "output_type": "execute_result"
    }
   ],
   "source": [
    "data = pd.read_csv('Case Study 1 - Dataset - Personal Loan Propensity.csv')\n",
    "data.head()"
   ]
  },
  {
   "cell_type": "code",
   "execution_count": 3,
   "metadata": {},
   "outputs": [
    {
     "name": "stdout",
     "output_type": "stream",
     "text": [
      "48\n"
     ]
    }
   ],
   "source": [
    "from datetime import date, datetime \n",
    "\n",
    "def calculateAge(dob): \n",
    "    born = datetime.strptime(dob, '%d/%m/%Y').date()\n",
    "    today = date.today() \n",
    "    try: \n",
    "        birthday = born.replace(year = today.year) \n",
    "\n",
    "    # raised when birth date is February 29 \n",
    "    # and the current year is not a leap year \n",
    "    except ValueError: \n",
    "        birthday = born.replace(year = today.year, \n",
    "                month = born.month + 1, day = 1) \n",
    "\n",
    "    if birthday > today: \n",
    "        return today.year - born.year - 1\n",
    "    else: \n",
    "        return today.year - born.year\n",
    "print(calculateAge('22/05/1971'))"
   ]
  },
  {
   "cell_type": "code",
   "execution_count": 4,
   "metadata": {},
   "outputs": [],
   "source": [
    "def datacleaning(data):\n",
    "    data['V2'] = data['V2'].apply({'MALE':1, 'FEMALE':0}.get)\n",
    "    \n",
    "    data['V3'] = data['V3'].apply(calculateAge)\n",
    "    \n",
    "    data['V6'] = data['V6'].apply({'OWNED':0, 'RENT':1}.get)\n",
    "    data['V6'] = data['V6'].fillna(data['V6'].median())\n",
    "    \n",
    "    data['V7'] = data['V7'].apply({'MC':0, 'MO':1, 'SC':2}.get)\n",
    "    \n",
    "    data['V11'] = data['V11'].apply({'L':0, 'M':1, 'F':2}.get)\n",
    "    \n",
    "    data['V12'] = data['V12'].apply({'NON-CASH':0, 'CASH':1}.get)\n",
    "\n",
    "    return data"
   ]
  },
  {
   "cell_type": "code",
   "execution_count": 5,
   "metadata": {},
   "outputs": [
    {
     "data": {
      "text/html": [
       "<div>\n",
       "<style scoped>\n",
       "    .dataframe tbody tr th:only-of-type {\n",
       "        vertical-align: middle;\n",
       "    }\n",
       "\n",
       "    .dataframe tbody tr th {\n",
       "        vertical-align: top;\n",
       "    }\n",
       "\n",
       "    .dataframe thead th {\n",
       "        text-align: right;\n",
       "    }\n",
       "</style>\n",
       "<table border=\"1\" class=\"dataframe\">\n",
       "  <thead>\n",
       "    <tr style=\"text-align: right;\">\n",
       "      <th></th>\n",
       "      <th>V1</th>\n",
       "      <th>V2</th>\n",
       "      <th>V3</th>\n",
       "      <th>V4</th>\n",
       "      <th>V5</th>\n",
       "      <th>V6</th>\n",
       "      <th>V7</th>\n",
       "      <th>V8</th>\n",
       "      <th>V9</th>\n",
       "      <th>V10</th>\n",
       "      <th>...</th>\n",
       "      <th>V23</th>\n",
       "      <th>V24</th>\n",
       "      <th>V25</th>\n",
       "      <th>V26</th>\n",
       "      <th>V27</th>\n",
       "      <th>V28</th>\n",
       "      <th>V29</th>\n",
       "      <th>V30</th>\n",
       "      <th>V31</th>\n",
       "      <th>V32</th>\n",
       "    </tr>\n",
       "  </thead>\n",
       "  <tbody>\n",
       "    <tr>\n",
       "      <th>0</th>\n",
       "      <td>1</td>\n",
       "      <td>1</td>\n",
       "      <td>52</td>\n",
       "      <td>516002</td>\n",
       "      <td>12</td>\n",
       "      <td>0.0</td>\n",
       "      <td>1</td>\n",
       "      <td>1</td>\n",
       "      <td>29800</td>\n",
       "      <td>23000</td>\n",
       "      <td>...</td>\n",
       "      <td>2</td>\n",
       "      <td>0</td>\n",
       "      <td>200000</td>\n",
       "      <td>23000.0</td>\n",
       "      <td>0</td>\n",
       "      <td>0</td>\n",
       "      <td>0</td>\n",
       "      <td>0</td>\n",
       "      <td>1</td>\n",
       "      <td>0</td>\n",
       "    </tr>\n",
       "    <tr>\n",
       "      <th>1</th>\n",
       "      <td>2</td>\n",
       "      <td>1</td>\n",
       "      <td>31</td>\n",
       "      <td>517501</td>\n",
       "      <td>12</td>\n",
       "      <td>0.0</td>\n",
       "      <td>0</td>\n",
       "      <td>1</td>\n",
       "      <td>73502</td>\n",
       "      <td>40000</td>\n",
       "      <td>...</td>\n",
       "      <td>1</td>\n",
       "      <td>0</td>\n",
       "      <td>0</td>\n",
       "      <td>40000.0</td>\n",
       "      <td>500000</td>\n",
       "      <td>0</td>\n",
       "      <td>1</td>\n",
       "      <td>4</td>\n",
       "      <td>7</td>\n",
       "      <td>0</td>\n",
       "    </tr>\n",
       "    <tr>\n",
       "      <th>2</th>\n",
       "      <td>3</td>\n",
       "      <td>1</td>\n",
       "      <td>49</td>\n",
       "      <td>516003</td>\n",
       "      <td>18</td>\n",
       "      <td>1.0</td>\n",
       "      <td>2</td>\n",
       "      <td>2</td>\n",
       "      <td>46180</td>\n",
       "      <td>30000</td>\n",
       "      <td>...</td>\n",
       "      <td>1</td>\n",
       "      <td>0</td>\n",
       "      <td>30000</td>\n",
       "      <td>30000.0</td>\n",
       "      <td>0</td>\n",
       "      <td>1</td>\n",
       "      <td>0</td>\n",
       "      <td>0</td>\n",
       "      <td>0</td>\n",
       "      <td>0</td>\n",
       "    </tr>\n",
       "    <tr>\n",
       "      <th>3</th>\n",
       "      <td>4</td>\n",
       "      <td>1</td>\n",
       "      <td>47</td>\n",
       "      <td>517213</td>\n",
       "      <td>18</td>\n",
       "      <td>0.0</td>\n",
       "      <td>1</td>\n",
       "      <td>2</td>\n",
       "      <td>29800</td>\n",
       "      <td>22100</td>\n",
       "      <td>...</td>\n",
       "      <td>2</td>\n",
       "      <td>0</td>\n",
       "      <td>42000</td>\n",
       "      <td>49900.0</td>\n",
       "      <td>0</td>\n",
       "      <td>0</td>\n",
       "      <td>0</td>\n",
       "      <td>2</td>\n",
       "      <td>6</td>\n",
       "      <td>0</td>\n",
       "    </tr>\n",
       "    <tr>\n",
       "      <th>4</th>\n",
       "      <td>5</td>\n",
       "      <td>0</td>\n",
       "      <td>36</td>\n",
       "      <td>517503</td>\n",
       "      <td>12</td>\n",
       "      <td>0.0</td>\n",
       "      <td>1</td>\n",
       "      <td>2</td>\n",
       "      <td>29800</td>\n",
       "      <td>18500</td>\n",
       "      <td>...</td>\n",
       "      <td>1</td>\n",
       "      <td>0</td>\n",
       "      <td>15000</td>\n",
       "      <td>18500.0</td>\n",
       "      <td>0</td>\n",
       "      <td>0</td>\n",
       "      <td>0</td>\n",
       "      <td>0</td>\n",
       "      <td>0</td>\n",
       "      <td>0</td>\n",
       "    </tr>\n",
       "  </tbody>\n",
       "</table>\n",
       "<p>5 rows × 32 columns</p>\n",
       "</div>"
      ],
      "text/plain": [
       "   V1  V2  V3      V4  V5   V6  V7  V8     V9    V10  ...  V23  V24     V25  \\\n",
       "0   1   1  52  516002  12  0.0   1   1  29800  23000  ...    2    0  200000   \n",
       "1   2   1  31  517501  12  0.0   0   1  73502  40000  ...    1    0       0   \n",
       "2   3   1  49  516003  18  1.0   2   2  46180  30000  ...    1    0   30000   \n",
       "3   4   1  47  517213  18  0.0   1   2  29800  22100  ...    2    0   42000   \n",
       "4   5   0  36  517503  12  0.0   1   2  29800  18500  ...    1    0   15000   \n",
       "\n",
       "       V26     V27  V28  V29  V30  V31  V32  \n",
       "0  23000.0       0    0    0    0    1    0  \n",
       "1  40000.0  500000    0    1    4    7    0  \n",
       "2  30000.0       0    1    0    0    0    0  \n",
       "3  49900.0       0    0    0    2    6    0  \n",
       "4  18500.0       0    0    0    0    0    0  \n",
       "\n",
       "[5 rows x 32 columns]"
      ]
     },
     "execution_count": 5,
     "metadata": {},
     "output_type": "execute_result"
    }
   ],
   "source": [
    "data = datacleaning(data)\n",
    "data.head()"
   ]
  },
  {
   "cell_type": "code",
   "execution_count": 6,
   "metadata": {},
   "outputs": [
    {
     "data": {
      "image/png": "[encoded data removed]",
      "text/plain": [
       "<Figure size 1080x1080 with 36 Axes>"
      ]
     },
     "metadata": {
      "needs_background": "light"
     },
     "output_type": "display_data"
    }
   ],
   "source": [
    "# fig1 = plt.figure(figsize = (10,10))\n",
    "data.hist(figsize = (15,15))\n",
    "plt.show()"
   ]
  },
  {
   "cell_type": "code",
   "execution_count": 7,
   "metadata": {},
   "outputs": [
    {
     "data": {
      "image/png": "[encoded data removed]",
      "text/plain": [
       "<Figure size 864x864 with 2 Axes>"
      ]
     },
     "metadata": {
      "needs_background": "light"
     },
     "output_type": "display_data"
    }
   ],
   "source": [
    "corr = data.corr()\n",
    "names = list(map(str , range(1,33)))\n",
    "for i in range(len(names)):\n",
    "    names[i] = 'V'+names[i]\n",
    "# print(names)\n",
    "fig2 = plt.figure(figsize = (12,12))\n",
    "ax = fig2.add_subplot(111)\n",
    "cax = ax.matshow(corr, vmin = -1, vmax = 1)\n",
    "fig2.colorbar(cax)\n",
    "ticks = np.arange(0, 32, 1)\n",
    "ax.set_xticks(ticks)\n",
    "ax.set_yticks(ticks)\n",
    "ax.set_xticklabels(names)\n",
    "ax.set_yticklabels(names)\n",
    "plt.show()"
   ]
  },
  {
   "cell_type": "code",
   "execution_count": 8,
   "metadata": {},
   "outputs": [],
   "source": [
    "xTrain, xTest, yTrain, yTest = train_test_split(data.drop(['V32'], axis = 'columns'), data.V32, test_size = 0.3)"
   ]
  },
  {
   "cell_type": "code",
   "execution_count": 9,
   "metadata": {},
   "outputs": [],
   "source": [
    "model = RandomForestClassifier(n_estimators=5, max_depth = 10)\n",
    "# xTrain.head()\n",
    "#     print('Yes')"
   ]
  },
  {
   "cell_type": "code",
   "execution_count": 10,
   "metadata": {},
   "outputs": [],
   "source": [
    "# modelcv = cross_val_score(model, xTrain[['V3','V6', 'V4', 'V5', 'V8','V9']], yTrain, cv = 5)\n",
    "modelcv = cross_val_score(model, xTrain, yTrain, cv = 5)"
   ]
  },
  {
   "cell_type": "code",
   "execution_count": 11,
   "metadata": {},
   "outputs": [
    {
     "name": "stdout",
     "output_type": "stream",
     "text": [
      "0.9272744712485526\n"
     ]
    }
   ],
   "source": [
    "print(modelcv.mean())\n",
    "# plt.plot(modelcv)"
   ]
  },
  {
   "cell_type": "code",
   "execution_count": 12,
   "metadata": {},
   "outputs": [
    {
     "name": "stderr",
     "output_type": "stream",
     "text": [
      "C:\\Users\\krishnakant\\Anaconda3\\lib\\site-packages\\sklearn\\ensemble\\forest.py:245: FutureWarning: The default value of n_estimators will change from 10 in version 0.20 to 100 in 0.22.\n",
      "  \"10 in version 0.20 to 100 in 0.22.\", FutureWarning)\n"
     ]
    },
    {
     "data": {
      "text/plain": [
       "RandomForestClassifier(bootstrap=True, class_weight=None, criterion='gini',\n",
       "                       max_depth=None, max_features='auto', max_leaf_nodes=None,\n",
       "                       min_impurity_decrease=0.0, min_impurity_split=None,\n",
       "                       min_samples_leaf=1, min_samples_split=2,\n",
       "                       min_weight_fraction_leaf=0.0, n_estimators=10,\n",
       "                       n_jobs=None, oob_score=False, random_state=None,\n",
       "                       verbose=0, warm_start=False)"
      ]
     },
     "execution_count": 12,
     "metadata": {},
     "output_type": "execute_result"
    }
   ],
   "source": [
    "# modelcv\n",
    "mod = RandomForestClassifier()\n",
    "mod.fit(xTrain, yTrain)\n",
    "# data.tail(35)"
   ]
  },
  {
   "cell_type": "code",
   "execution_count": 13,
   "metadata": {},
   "outputs": [],
   "source": [
    "predicted = mod.predict(xTest)\n",
    "# print(predicted)\n",
    "# count = 0\n",
    "# for i in predicted:\n",
    "#     if i == 1:\n",
    "#         count+=1\n",
    "# print('total', str(len(xTest)), 'x=1 are',str(count))"
   ]
  },
  {
   "cell_type": "code",
   "execution_count": 14,
   "metadata": {},
   "outputs": [
    {
     "name": "stdout",
     "output_type": "stream",
     "text": [
      "293\n",
      "6208\n"
     ]
    }
   ],
   "source": [
    "# cou = 0\n",
    "# for i,j in zip(predicted, yTest):\n",
    "#     if i==j:\n",
    "#         cou+=1\n",
    "# acc = (cou/len(predicted))*100\n",
    "# print(acc)\n",
    "print(predicted.sum(axis = 0))\n",
    "print(yTest.sum(axis = 0))"
   ]
  },
  {
   "cell_type": "code",
   "execution_count": 15,
   "metadata": {},
   "outputs": [
    {
     "name": "stdout",
     "output_type": "stream",
     "text": [
      "0.9261646127382832\n"
     ]
    }
   ],
   "source": [
    "from sklearn.metrics import accuracy_score\n",
    "print(accuracy_score(yTest, predicted))"
   ]
  },
  {
   "cell_type": "code",
   "execution_count": 16,
   "metadata": {},
   "outputs": [
    {
     "data": {
      "text/plain": [
       "array([[78494,   176],\n",
       "       [ 6091,   117]], dtype=int64)"
      ]
     },
     "execution_count": 16,
     "metadata": {},
     "output_type": "execute_result"
    }
   ],
   "source": [
    "from sklearn.metrics import confusion_matrix\n",
    "confusion_matrix(yTest, predicted)"
   ]
  },
  {
   "cell_type": "code",
   "execution_count": 17,
   "metadata": {},
   "outputs": [
    {
     "name": "stdout",
     "output_type": "stream",
     "text": [
      "              precision    recall  f1-score   support\n",
      "\n",
      "           0       0.93      1.00      0.96     78670\n",
      "           1       0.40      0.02      0.04      6208\n",
      "\n",
      "    accuracy                           0.93     84878\n",
      "   macro avg       0.66      0.51      0.50     84878\n",
      "weighted avg       0.89      0.93      0.89     84878\n",
      "\n"
     ]
    }
   ],
   "source": [
    "from sklearn.metrics import classification_report\n",
    "print(classification_report(yTest, predicted))"
   ]
  },
  {
   "cell_type": "code",
   "execution_count": null,
   "metadata": {},
   "outputs": [],
   "source": []
  }
 ],
 "metadata": {
  "kernelspec": {
   "display_name": "Python 3",
   "language": "python",
   "name": "python3"
  },
  "language_info": {
   "codemirror_mode": {
    "name": "ipython",
    "version": 3
   },
   "file_extension": ".py",
   "mimetype": "text/x-python",
   "name": "python",
   "nbconvert_exporter": "python",
   "pygments_lexer": "ipython3",
   "version": "3.7.3"
  }
 },
 "nbformat": 4,
 "nbformat_minor": 2
}
